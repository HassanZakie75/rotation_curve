{
 "cells": [
  {
   "cell_type": "code",
   "execution_count": 1,
   "id": "2ee88bb1",
   "metadata": {},
   "outputs": [],
   "source": [
    "import pandas as pd"
   ]
  },
  {
   "cell_type": "code",
   "execution_count": 3,
   "id": "9ceefd90",
   "metadata": {},
   "outputs": [
    {
     "name": "stdout",
     "output_type": "stream",
     "text": [
      "Error: 'your_file.csv' not found. Please ensure the file exists in the correct directory.\n"
     ]
    }
   ],
   "source": [
    "# Read the CSV file into a Pandas DataFrame\n",
    "try:\n",
    "    df = pd.read_csv('norsiah_data.csv')\n",
    "\n",
    "    # Print the entire DataFrame\n",
    "    print(df)\n",
    "\n",
    "    # Access specific columns by name\n",
    "    print(f\"\\nSpecific column 'ColumnName':\\n{df['ColumnName']}\")\n",
    "\n",
    "    # Access specific rows or elements (e.g., row at index 2, column 'ColumnName')\n",
    "    print(f\"\\nSpecific element: {df.loc[2, 'ColumnName']}\")\n",
    "\n",
    "except FileNotFoundError:\n",
    "    print(\"Error: 'your_file.csv' not found. Please ensure the file exists in the correct directory.\")"
   ]
  }
 ],
 "metadata": {
  "kernelspec": {
   "display_name": "Python 3",
   "language": "python",
   "name": "python3"
  },
  "language_info": {
   "codemirror_mode": {
    "name": "ipython",
    "version": 3
   },
   "file_extension": ".py",
   "mimetype": "text/x-python",
   "name": "python",
   "nbconvert_exporter": "python",
   "pygments_lexer": "ipython3",
   "version": "3.11.9"
  }
 },
 "nbformat": 4,
 "nbformat_minor": 5
}
